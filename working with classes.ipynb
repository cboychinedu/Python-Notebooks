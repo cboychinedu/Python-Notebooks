{
 "cells": [
  {
   "cell_type": "code",
   "execution_count": 30,
   "metadata": {},
   "outputs": [],
   "source": [
    "#!/usr/bin/env python3 "
   ]
  },
  {
   "cell_type": "markdown",
   "metadata": {},
   "source": [
    "## Classes and Class Creation "
   ]
  },
  {
   "cell_type": "markdown",
   "metadata": {},
   "source": [
    "1). Python is an object programming language. Unlike other oriented programming language, its emphasis is stressed on objects.\n",
    "\n",
    "2). Object is simply a collection of data(variables) and methods(functions) that act on those date.\n",
    "3). Class or Classes is a blueprint for the Object.\n",
    "4). We can also think of a class as a sketch(prototype) of a house, it contains all the details about the floors, doors, \n",
    "windows etc. based on this disctiptions, the House is the object. \n",
    "    5). We should also understand that an Object is also called an instance of a class and the process of creating this object is called INSTANTIATION. "
   ]
  },
  {
   "cell_type": "markdown",
   "metadata": {},
   "source": [
    "## Defining a class in Python \n",
    "we use the 'class' function to define a class in python. \n",
    "\n",
    "Class is like an Object constructor, or a blueprint for creating objects. "
   ]
  },
  {
   "cell_type": "markdown",
   "metadata": {},
   "source": [
    "## Creating An Object in Python "
   ]
  },
  {
   "cell_type": "code",
   "execution_count": 3,
   "metadata": {},
   "outputs": [],
   "source": [
    "class Creds_info:\n",
    "    def __init__(anna):\n",
    "        anna.name = 'Anna'\n",
    "        anna.age = 27\n",
    "        anna.college = 'MIT'\n",
    "        anna.faculty = 'Engineering'\n",
    "        anna.Department = 'Computer Engineering'\n",
    "        anna.ID = '109AD04IIB'\n",
    "        \n",
    "info = Creds_info()\n",
    "  \n",
    "# This would Print all the Objects Assigined to this particular Class. \n",
    "\n",
    "\n",
    "\n",
    "        \n"
   ]
  },
  {
   "cell_type": "code",
   "execution_count": 4,
   "metadata": {},
   "outputs": [
    {
     "name": "stdout",
     "output_type": "stream",
     "text": [
      "The Name of the student is ANNA, And she is from ENGINEERING Faculty.\n",
      "\n",
      "She has an ID Number: 109AD04IIB.\n"
     ]
    }
   ],
   "source": [
    "# Working on the created class \n",
    "print(\"\"\"The Name of the student is {}, And she is from {} Faculty.\\n\n",
    "She has an ID Number: {}.\"\"\".format(info.name.upper(), info.faculty.upper(), info.ID.upper()))"
   ]
  },
  {
   "cell_type": "markdown",
   "metadata": {},
   "source": [
    "We saw that the class object could be used to access different attributes. \n",
    " it can also be used to create new object instances (instantiation) of that class. The procedure to create an object is similar to a function 'call' "
   ]
  },
  {
   "cell_type": "markdown",
   "metadata": {},
   "source": [
    "## The __init__() Function \n",
    "All classes have a function called __init__() which is always executed when the class is being initiated. we use the init() function to assign values to object properties, or other operations that are necessary to do when the object is being created. \n",
    "\n",
    "Also note that the __init__() function is called automatically every time the class is being used to create a new object. \n",
    "\n",
    "## The Self Parameter \n",
    "The self parameter is a reference to the current instance of the class, and is used to access variables that belongs to the class. \n",
    "it does not have to be named self, you can call it whatever you like, but it has to be the first parameter of any function in the class. "
   ]
  },
  {
   "cell_type": "code",
   "execution_count": null,
   "metadata": {},
   "outputs": [],
   "source": [
    "# Creating a class for a person. \n",
    "import re \n",
    "class Person:\n",
    "    def __init__(self):\n",
    "        self.name = 'Anna'\n",
    "        self.age = 27 \n",
    "        self.school = 'MIT'\n",
    "        self.scores = [70, 60, 80, 45]\n",
    "       \n",
    "        \n",
    "# Assigning a variable to the class created for the Person. \n",
    "info = Person()\n",
    "\n",
    "value = input('What do you want to know about Anna: ')\n",
    "value = value.lower()\n",
    "#value = re.sub(' ', '', value)\n",
    "\n",
    "if value == 'age':\n",
    "    print(\"Anna's age is {}\".format(info.age))\n",
    "    \n",
    "if value == 'name':\n",
    "    print('Anna name is {}'.format(info.name))\n",
    "    \n",
    "elif value == 'scores':\n",
    "    print('Anna scores are {}'.format(info.scores))"
   ]
  },
  {
   "cell_type": "code",
   "execution_count": 21,
   "metadata": {},
   "outputs": [],
   "source": [
    "# Creating a new class called ComplexNUmber \n",
    "class ComplexNumber:\n",
    "    def __init__(self, r=0, i=0):\n",
    "        self.real = r \n",
    "        self.imaginary = i \n",
    "        \n",
    "    def GetData(self):\n",
    "        pr('{} + {}j'.format(self.real, self.imaginary))\n",
    "         \n",
    "    def SaveData():\n",
    "        \n",
    "        \n",
    "        "
   ]
  },
  {
   "cell_type": "code",
   "execution_count": 29,
   "metadata": {},
   "outputs": [
    {
     "name": "stdout",
     "output_type": "stream",
     "text": [
      "2 + 3j\n",
      "None\n"
     ]
    }
   ],
   "source": [
    "# Calling out the class function and giving it an object value. \n",
    "complex_values = ComplexNumber(2, 3) \n",
    "\n",
    "print(complex_values.GetData())"
   ]
  },
  {
   "cell_type": "code",
   "execution_count": 18,
   "metadata": {},
   "outputs": [],
   "source": [
    "# Creating a class\n",
    "class LotteryPlayer:\n",
    "    def __init__(self):\n",
    "        self.name = 'Mbonu Chinedu'\n",
    "        self.numbers = (87, 43, 76, 40)\n",
    "        self.school = 'Nnamdi Azikiwe University'\n",
    "        \n",
    "    def total(self):\n",
    "        return sum(self.numbers)\n",
    "    \n",
    "    def Average(self):\n",
    "        print('The Average is: {}'.format((sum(self.numbers)) / len(self.numbers)))\n",
    "        "
   ]
  },
  {
   "cell_type": "code",
   "execution_count": 19,
   "metadata": {},
   "outputs": [],
   "source": [
    "player = LotteryPlayer() "
   ]
  },
  {
   "cell_type": "code",
   "execution_count": 20,
   "metadata": {},
   "outputs": [
    {
     "name": "stdout",
     "output_type": "stream",
     "text": [
      "Nnamdi Azikiwe University\n",
      "Mbonu Chinedu\n"
     ]
    }
   ],
   "source": [
    "print(player.school)\n",
    "print(player.name)"
   ]
  },
  {
   "cell_type": "code",
   "execution_count": 76,
   "metadata": {},
   "outputs": [
    {
     "name": "stdout",
     "output_type": "stream",
     "text": [
      "The Average is: 61.5\n",
      "None\n"
     ]
    }
   ],
   "source": [
    "print(player.Average()) "
   ]
  },
  {
   "cell_type": "code",
   "execution_count": 26,
   "metadata": {},
   "outputs": [
    {
     "name": "stdout",
     "output_type": "stream",
     "text": [
      "Kelvin\n"
     ]
    },
    {
     "data": {
      "text/plain": [
       "False"
      ]
     },
     "execution_count": 26,
     "metadata": {},
     "output_type": "execute_result"
    }
   ],
   "source": [
    "print(player_2.name)\n",
    "player.name == player_2.name \n"
   ]
  },
  {
   "cell_type": "code",
   "execution_count": 45,
   "metadata": {},
   "outputs": [],
   "source": [
    "# Working with a Student Class. \n",
    "class Student:\n",
    "    def __init__(self, name, school):\n",
    "        self.name = name\n",
    "        self.school = school\n",
    "        self.marks = [30, 50, 60, 40, 70]\n",
    "        \n",
    "    def average(self):\n",
    "        return sum(self.marks) / len(self.marks)\n",
    "    \n",
    "    @staticmethod\n",
    "    def go_to_school():\n",
    "        print('I am going to School')\n",
    "        \n",
    "        "
   ]
  },
  {
   "cell_type": "code",
   "execution_count": 46,
   "metadata": {},
   "outputs": [],
   "source": [
    "anna = Student('Anna', 'NAU')\n",
    "kelvin = Student('Kelvin', 'Oxford')\n"
   ]
  },
  {
   "cell_type": "code",
   "execution_count": 51,
   "metadata": {},
   "outputs": [
    {
     "name": "stdout",
     "output_type": "stream",
     "text": [
      "50.0\n",
      "I am going to School\n",
      "None\n",
      "Kelvin Oxford\n"
     ]
    }
   ],
   "source": [
    "print(anna.average())\n",
    "print(Student.go_to_school())\n",
    "print(kelvin.name, kelvin.school)"
   ]
  },
  {
   "cell_type": "markdown",
   "metadata": {},
   "source": [
    "## Modify and Delete Object Properties From a class \n"
   ]
  },
  {
   "cell_type": "code",
   "execution_count": 96,
   "metadata": {},
   "outputs": [
    {
     "name": "stdout",
     "output_type": "stream",
     "text": [
      "Ada got a B, in Maths101.\n"
     ]
    }
   ],
   "source": [
    "# To Modify Object \n",
    "class Details:\n",
    "    def __init__(self, name, age, course, grade):\n",
    "        self.name = name\n",
    "        self.age = age \n",
    "        self.course = course\n",
    "        self.grade = grade\n",
    "        \n",
    "    def Result(self):\n",
    "        print('{} got a {}, in {}.'.format(self.name, self.grade, self.course))\n",
    "\n",
    "\n",
    "result = Details('Ada','', 'Maths101', 'B')\n",
    "result.Result()"
   ]
  },
  {
   "cell_type": "code",
   "execution_count": 97,
   "metadata": {},
   "outputs": [
    {
     "name": "stdout",
     "output_type": "stream",
     "text": [
      "Ada\n",
      "Kelvin\n"
     ]
    }
   ],
   "source": [
    "# To modify an Object value within a class \n",
    "print(result.name)    # THis shows the name assignied to the Object class result. \n",
    "\n",
    "result.name = 'Kelvin'    # THis then assigns a new name to the object class \n",
    "print(result.name)"
   ]
  },
  {
   "cell_type": "code",
   "execution_count": 98,
   "metadata": {},
   "outputs": [
    {
     "name": "stdout",
     "output_type": "stream",
     "text": [
      "Maths101\n"
     ]
    }
   ],
   "source": [
    "# To Delete an Object value within a class \n",
    "print(result.course)\n",
    "\n"
   ]
  },
  {
   "cell_type": "code",
   "execution_count": 99,
   "metadata": {},
   "outputs": [],
   "source": [
    "# This 'del' function would delete the object class 'course' from the class. \n",
    "del result.course \n"
   ]
  },
  {
   "cell_type": "code",
   "execution_count": null,
   "metadata": {},
   "outputs": [],
   "source": [
    "class Student:\n",
    "    def __init__(self, name, school):\n",
    "        self.name = name\n",
    "        self.school = school\n",
    "        self.marks = []\n",
    "        \n",
    "    def average(self):\n",
    "        return sum(self.marks) / len(self.marks)\n",
    "    \n",
    "    @classmethod\n",
    "    def friend(cls, origin, friend_name, *args, **kwargs):\n",
    "        pass  "
   ]
  },
  {
   "cell_type": "code",
   "execution_count": null,
   "metadata": {},
   "outputs": [],
   "source": []
  },
  {
   "cell_type": "code",
   "execution_count": null,
   "metadata": {},
   "outputs": [],
   "source": []
  },
  {
   "cell_type": "code",
   "execution_count": null,
   "metadata": {},
   "outputs": [],
   "source": []
  },
  {
   "cell_type": "code",
   "execution_count": null,
   "metadata": {},
   "outputs": [],
   "source": []
  },
  {
   "cell_type": "code",
   "execution_count": null,
   "metadata": {},
   "outputs": [],
   "source": []
  },
  {
   "cell_type": "code",
   "execution_count": null,
   "metadata": {},
   "outputs": [],
   "source": []
  }
 ],
 "metadata": {
  "kernelspec": {
   "display_name": "Python 3",
   "language": "python",
   "name": "python3"
  },
  "language_info": {
   "codemirror_mode": {
    "name": "ipython",
    "version": 3
   },
   "file_extension": ".py",
   "mimetype": "text/x-python",
   "name": "python",
   "nbconvert_exporter": "python",
   "pygments_lexer": "ipython3",
   "version": "3.6.5"
  }
 },
 "nbformat": 4,
 "nbformat_minor": 2
}
