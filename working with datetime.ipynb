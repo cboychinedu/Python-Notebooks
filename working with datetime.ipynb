{
 "cells": [
  {
   "cell_type": "code",
   "execution_count": 2,
   "metadata": {},
   "outputs": [],
   "source": [
    "#!/usr/bin/env python3 \n",
    "\n",
    "# Importing the necessary Packages. \n",
    "import datetime \n",
    "import time "
   ]
  },
  {
   "cell_type": "markdown",
   "metadata": {},
   "source": [
    "## Working with Datetime (Dates)"
   ]
  },
  {
   "cell_type": "code",
   "execution_count": 3,
   "metadata": {},
   "outputs": [
    {
     "name": "stdout",
     "output_type": "stream",
     "text": [
      "2019-06-26\n",
      "2019\n",
      "6\n",
      "26\n"
     ]
    }
   ],
   "source": [
    "# Getting todays date from datetime.date\n",
    "# And finding the individual values for the (year, month, and day.)\n",
    "tday = datetime.date.today()\n",
    "print(tday)         # Getting the whole date. \n",
    "print(tday.year)    # Getting the year only.\n",
    "print(tday.month)   # Getting the month \n",
    "print(tday.day)     # Getting the day only."
   ]
  },
  {
   "cell_type": "code",
   "execution_count": 4,
   "metadata": {},
   "outputs": [
    {
     "name": "stdout",
     "output_type": "stream",
     "text": [
      "7 days, 0:00:00\n",
      "2019-06-19\n"
     ]
    }
   ],
   "source": [
    "# Working with time delta. \n",
    "# Time delta is the difference between two dates. \n",
    "tday = datetime.date.today() \n",
    "tdelta = datetime.timedelta(days=7)\n",
    "print(tdelta)\n",
    "\n",
    "print(tday - tdelta)   # This will show us the date 7days backwards. ( we are substracting 7days from the current date)"
   ]
  },
  {
   "cell_type": "code",
   "execution_count": 5,
   "metadata": {},
   "outputs": [
    {
     "name": "stdout",
     "output_type": "stream",
     "text": [
      "12873600.0\n",
      "149\n"
     ]
    }
   ],
   "source": [
    "bday = datetime.date(2019, 11, 22)       # specifying my Birthday. \n",
    "\n",
    "till_bday = bday - tday                  # Creating a variable to store the days reamining to my birthday. \n",
    "print(till_bday.total_seconds())\n",
    "print(till_bday.days)"
   ]
  },
  {
   "cell_type": "markdown",
   "metadata": {},
   "source": [
    "## Working with Datetime (Time, month, day.)"
   ]
  },
  {
   "cell_type": "code",
   "execution_count": 6,
   "metadata": {},
   "outputs": [
    {
     "name": "stdout",
     "output_type": "stream",
     "text": [
      "2016-07-26 12:30:43.100000\n"
     ]
    }
   ],
   "source": [
    "# Placing a value into the dt variable and printing it on the \n",
    "# Screen. \n",
    "dt = datetime.datetime(2016, 7, 26, 12, 30, 43, 100000)\n",
    "print(dt)"
   ]
  },
  {
   "cell_type": "code",
   "execution_count": 7,
   "metadata": {},
   "outputs": [
    {
     "name": "stdout",
     "output_type": "stream",
     "text": [
      "2019-06-26 12:13:43.203466\n"
     ]
    }
   ],
   "source": [
    "# Finding the year, time, date, and seconds using datetime. \n",
    "date_time = datetime.datetime.today()\n",
    "print(date_time)"
   ]
  },
  {
   "cell_type": "code",
   "execution_count": 8,
   "metadata": {},
   "outputs": [
    {
     "name": "stdout",
     "output_type": "stream",
     "text": [
      "2019-06-26 12:13:43.370665\n",
      "2019-06-26 12:13:43.370870\n",
      "2019-06-26 11:13:43.370956\n"
     ]
    }
   ],
   "source": [
    "# Explaining the different datetime.datetime --formats. \n",
    "dt_today = datetime.datetime.today()       # This would find the current date, time, and year. \n",
    "dt_now = datetime.datetime.now()           # This would find the current date, time, and year, \n",
    "                                           # but gives room for modification.\n",
    "\n",
    "dt_utcnow = datetime.datetime.utcnow()     # This would give us the datetime in \"utc-format.\"\n",
    "\n",
    "print(dt_today)\n",
    "print(dt_now)\n",
    "print(dt_utcnow)"
   ]
  },
  {
   "cell_type": "code",
   "execution_count": 9,
   "metadata": {},
   "outputs": [
    {
     "name": "stdout",
     "output_type": "stream",
     "text": [
      "2019-06-26 11:13:43.745411+00:00\n"
     ]
    }
   ],
   "source": [
    "# Working with UTC time Zone. \n",
    "import pytz \n",
    "\n",
    "dt_utcnow = datetime.datetime.now(tz=pytz.UTC)\n",
    "print(dt_utcnow)"
   ]
  },
  {
   "cell_type": "code",
   "execution_count": 10,
   "metadata": {},
   "outputs": [],
   "source": [
    "## For Loops with Datetime "
   ]
  },
  {
   "cell_type": "code",
   "execution_count": 21,
   "metadata": {},
   "outputs": [
    {
     "name": "stdout",
     "output_type": "stream",
     "text": [
      "12:21:58.54\n"
     ]
    }
   ],
   "source": [
    "new_time = datetime.datetime.today()\n",
    "new_time = str(new_time)\n",
    "new_time = new_time.split(' ')[1][:11]\n",
    "print(new_time)"
   ]
  },
  {
   "cell_type": "code",
   "execution_count": null,
   "metadata": {},
   "outputs": [],
   "source": []
  },
  {
   "cell_type": "code",
   "execution_count": null,
   "metadata": {},
   "outputs": [],
   "source": []
  },
  {
   "cell_type": "code",
   "execution_count": null,
   "metadata": {},
   "outputs": [],
   "source": []
  }
 ],
 "metadata": {
  "kernelspec": {
   "display_name": "Python 3",
   "language": "python",
   "name": "python3"
  },
  "language_info": {
   "codemirror_mode": {
    "name": "ipython",
    "version": 3
   },
   "file_extension": ".py",
   "mimetype": "text/x-python",
   "name": "python",
   "nbconvert_exporter": "python",
   "pygments_lexer": "ipython3",
   "version": "3.6.5"
  }
 },
 "nbformat": 4,
 "nbformat_minor": 2
}
