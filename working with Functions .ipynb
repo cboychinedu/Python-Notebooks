{
 "cells": [
  {
   "cell_type": "markdown",
   "metadata": {},
   "source": [
    "## Working with Functions."
   ]
  },
  {
   "cell_type": "markdown",
   "metadata": {},
   "source": [
    "1). Functions are a construct to structure programs. they are known in most programming languages, sometimes also called procedures.\n",
    "2). A function in python is defined by a def statement. \n",
    "3). A function without an explict return statement return None.\n",
    "    "
   ]
  },
  {
   "cell_type": "markdown",
   "metadata": {},
   "source": [
    "## Arguments "
   ]
  },
  {
   "cell_type": "markdown",
   "metadata": {},
   "source": [
    "1). The arguments of a function are defined within the 'def' statement. like all other variables in Python, there is no explicit type associated with the function arguments. \n",
    " \n",
    "2). Function arguments can optionally be defined with a default value. the default value will be assigned in the case that the argument is not present in the call to the function. "
   ]
  },
  {
   "cell_type": "code",
   "execution_count": null,
   "metadata": {},
   "outputs": [],
   "source": [
    "# The syntax \n",
    "def function_name(parameter list):\n",
    "    statements, i.e the function body "
   ]
  },
  {
   "cell_type": "code",
   "execution_count": 4,
   "metadata": {},
   "outputs": [
    {
     "name": "stdout",
     "output_type": "stream",
     "text": [
      "The sum of x and y is 13\n"
     ]
    }
   ],
   "source": [
    "# Creating the add function. \n",
    "def add(x, y):\n",
    "    print('The sum of x and y is {}'.format(sum))\n",
    "    sum = x + y\n",
    "\n",
    "add(5, 8)"
   ]
  },
  {
   "cell_type": "code",
   "execution_count": 20,
   "metadata": {},
   "outputs": [
    {
     "name": "stdout",
     "output_type": "stream",
     "text": [
      "The sum is 8\n",
      "My name is 80.5\n"
     ]
    }
   ],
   "source": [
    "# Creating functions with optional characers. \n",
    "# This Basically sets the value of y to 5 if no value was passed into the function.\n",
    "score = 80.5 \n",
    "\n",
    "\n",
    "def add(x, y=5, name='Nedu', school='NAU'):\n",
    "    global score \n",
    "    sum = x + y \n",
    "    print('The sum is {}'.format(sum))\n",
    "    print('My name is {}'.format(score))\n",
    "    \n",
    "add(3)"
   ]
  },
  {
   "cell_type": "code",
   "execution_count": 22,
   "metadata": {},
   "outputs": [
    {
     "name": "stdout",
     "output_type": "stream",
     "text": [
      "Kelvin scored 70\n"
     ]
    }
   ],
   "source": [
    "# Creating a function for calculating scores.\n",
    "value = 70\n",
    "\n",
    "def record_score(name, score=0):\n",
    "    global value\n",
    "    print('{} scored {}'.format(name, value))\n",
    "    \n",
    "record_score('Kelvin')"
   ]
  },
  {
   "cell_type": "markdown",
   "metadata": {},
   "source": [
    "## Mutable Arguments in Functions\n",
    "1). When defining default argument, take special care with mutable data type. The instance of the default value is bound at \n",
    "    the time the function is defined. \n",
    " 2). Also note that there is a single instance of the mutable object that will be used across all calls to the function. "
   ]
  },
  {
   "cell_type": "code",
   "execution_count": 31,
   "metadata": {},
   "outputs": [],
   "source": [
    "# Creating a Mutable Argument function. \n",
    "def add_items(new_items, base_items=[8, 'Kelvin']):\n",
    "    for item in new_items:\n",
    "        base_items.append(item)\n",
    "    print(base_items) "
   ]
  },
  {
   "cell_type": "code",
   "execution_count": 32,
   "metadata": {},
   "outputs": [
    {
     "name": "stdout",
     "output_type": "stream",
     "text": [
      "[8, 'Kelvin', 2, 3, 5, 6, 7]\n"
     ]
    }
   ],
   "source": [
    "add_items([2, 3, 5, 6, 7])"
   ]
  },
  {
   "cell_type": "code",
   "execution_count": null,
   "metadata": {},
   "outputs": [],
   "source": []
  },
  {
   "cell_type": "markdown",
   "metadata": {},
   "source": [
    "## The Zip() Module in Python. \n"
   ]
  },
  {
   "cell_type": "markdown",
   "metadata": {},
   "source": [
    "The purpose of the zip() is to map the similar index of multiple containers so that they can be used just as single entity.\n",
    "\n",
    "Syntax:\n",
    "zip(list, string, etc)   This will zip the contents in the list or string\n",
    "zip(*(list, string))     This will unzip the contents in the list or string specified. \n",
    "\n",
    "Also note the the zip() function returns a zip object, which is an iterator of tuples where the first item in each passed iterator is paired together.\n",
    "    "
   ]
  },
  {
   "cell_type": "markdown",
   "metadata": {},
   "source": [
    "## Working with how to zip in python "
   ]
  },
  {
   "cell_type": "code",
   "execution_count": 58,
   "metadata": {},
   "outputs": [
    {
     "name": "stdout",
     "output_type": "stream",
     "text": [
      "Kelvin\n"
     ]
    }
   ],
   "source": [
    "# Showing how zipping works \n",
    "name = ['Kelvin', 'Sarah', 'Tobi', 'Spike']\n",
    "roll_no = [4, 3, 2, 6, 7, 9]\n",
    "marks = [80, 79, 43, 20, 72]\n",
    "\n",
    "# Creating a variable and zip all the contents. \n",
    "zipped_values = zip(name, roll_no, marks)\n",
    "#zipped_values = set(zipped_values)\n",
    "new_val = list(zipped_values)\n",
    "#values_in_list = list(zipped_values)\n",
    "\n",
    "print(new_val[0][0])"
   ]
  },
  {
   "cell_type": "code",
   "execution_count": null,
   "metadata": {},
   "outputs": [],
   "source": []
  },
  {
   "cell_type": "markdown",
   "metadata": {},
   "source": [
    "## Showing how to unzip in python"
   ]
  },
  {
   "cell_type": "code",
   "execution_count": 84,
   "metadata": {},
   "outputs": [
    {
     "name": "stdout",
     "output_type": "stream",
     "text": [
      "('Sarah', 40, 50)\n",
      "[('Sarah', 'Kelvin', 'John', 'Mercy', 'ikenna'), (40, 32, 26, 11, 13), (50, 40, 87, 76, 79)]\n"
     ]
    }
   ],
   "source": [
    "name = ['Sarah', 'Kelvin', 'John', 'Mercy', 'ikenna']\n",
    "room_numbers = [40, 32, 26, 11, 13]\n",
    "room_price_in_percent = [50, 40, 87, 76, 79]\n",
    "\n",
    "# Mapping the values First by zipping the list \n",
    "mapped = zip(name, room_numbers, room_price_in_percent)\n",
    "\n",
    "# Converting the mapped values into a list \n",
    "new_mapped = list(mapped)\n",
    "print(new_mapped[0])\n",
    "\n",
    "# Unzipping The list called \"new_mapped\"\n",
    "new_mapped = zip(*new_mapped)\n",
    "\n",
    "# Convert it into a list And Print. \n",
    "new_mapped_list = list(new_mapped)\n",
    "print(new_mapped_list)\n",
    "\n"
   ]
  },
  {
   "cell_type": "code",
   "execution_count": 85,
   "metadata": {},
   "outputs": [
    {
     "name": "stdout",
     "output_type": "stream",
     "text": [
      "('Charles', 'christy')\n"
     ]
    }
   ],
   "source": [
    "# Joining Two tuples together. \n",
    "a = ('john', 'Charles', 'Mike')\n",
    "b = ('Jenny', 'christy', 'Monica')\n",
    "\n",
    "x = zip(a, b)\n",
    "print(list(x)[1])"
   ]
  },
  {
   "cell_type": "markdown",
   "metadata": {},
   "source": [
    "## Unziping values in python "
   ]
  },
  {
   "cell_type": "code",
   "execution_count": 86,
   "metadata": {},
   "outputs": [
    {
     "ename": "ValueError",
     "evalue": "not enough values to unpack (expected 3, got 0)",
     "output_type": "error",
     "traceback": [
      "\u001b[0;31m---------------------------------------------------------------\u001b[0m",
      "\u001b[0;31mValueError\u001b[0m                    Traceback (most recent call last)",
      "\u001b[0;32m<ipython-input-86-1cce60ad556e>\u001b[0m in \u001b[0;36m<module>\u001b[0;34m()\u001b[0m\n\u001b[0;32m----> 1\u001b[0;31m \u001b[0;34m(\u001b[0m\u001b[0mname\u001b[0m\u001b[0;34m,\u001b[0m \u001b[0mschool\u001b[0m\u001b[0;34m,\u001b[0m \u001b[0mnew_item\u001b[0m\u001b[0;34m)\u001b[0m \u001b[0;34m=\u001b[0m \u001b[0mzip\u001b[0m\u001b[0;34m(\u001b[0m\u001b[0;34m*\u001b[0m\u001b[0mmapped\u001b[0m\u001b[0;34m)\u001b[0m\u001b[0;34m\u001b[0m\u001b[0m\n\u001b[0m",
      "\u001b[0;31mValueError\u001b[0m: not enough values to unpack (expected 3, got 0)"
     ]
    }
   ],
   "source": [
    "(name, school, new_item) = zip(*mapped)"
   ]
  },
  {
   "cell_type": "code",
   "execution_count": null,
   "metadata": {},
   "outputs": [],
   "source": []
  },
  {
   "cell_type": "code",
   "execution_count": null,
   "metadata": {},
   "outputs": [],
   "source": []
  },
  {
   "cell_type": "code",
   "execution_count": null,
   "metadata": {},
   "outputs": [],
   "source": []
  },
  {
   "cell_type": "code",
   "execution_count": null,
   "metadata": {},
   "outputs": [],
   "source": []
  },
  {
   "cell_type": "code",
   "execution_count": null,
   "metadata": {},
   "outputs": [],
   "source": []
  },
  {
   "cell_type": "code",
   "execution_count": null,
   "metadata": {},
   "outputs": [],
   "source": []
  },
  {
   "cell_type": "code",
   "execution_count": null,
   "metadata": {},
   "outputs": [],
   "source": []
  }
 ],
 "metadata": {
  "kernelspec": {
   "display_name": "Python 3",
   "language": "python",
   "name": "python3"
  },
  "language_info": {
   "codemirror_mode": {
    "name": "ipython",
    "version": 3
   },
   "file_extension": ".py",
   "mimetype": "text/x-python",
   "name": "python",
   "nbconvert_exporter": "python",
   "pygments_lexer": "ipython3",
   "version": "3.6.5"
  }
 },
 "nbformat": 4,
 "nbformat_minor": 2
}
