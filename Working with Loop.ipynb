{
 "cells": [
  {
   "cell_type": "code",
   "execution_count": 1,
   "metadata": {},
   "outputs": [],
   "source": [
    "## Working with Loops. "
   ]
  },
  {
   "cell_type": "code",
   "execution_count": 2,
   "metadata": {},
   "outputs": [
    {
     "data": {
      "text/plain": [
       "'\\n    A loop allows us to run a statement, once or multiple times. There are two types of loops which are;\\n    1) while loop \\n    2) For loop \\n    \\n    While Loop:\\n    A while loop executes a target statement as long as a given condition is True.\\n    \\n    N/B: A loop becomes infinit as far as the condition never becomes false.\\n    \\n    For Loop:\\n        the for loop has the ability to iterate over the items of any sequence such as a list or string e.t.c\\n'"
      ]
     },
     "execution_count": 2,
     "metadata": {},
     "output_type": "execute_result"
    }
   ],
   "source": [
    "\"\"\"\n",
    "    A loop allows us to run a statement, once or multiple times. There are two types of loops which are;\n",
    "    1) while loop \n",
    "    2) For loop \n",
    "    \n",
    "    While Loop:\n",
    "    A while loop executes a target statement as long as a given condition is True.\n",
    "    \n",
    "    N/B: A loop becomes infinit as far as the condition never becomes false.\n",
    "    \n",
    "    For Loop:\n",
    "        the for loop has the ability to iterate over the items of any sequence such as a list or string e.t.c\n",
    "\"\"\""
   ]
  },
  {
   "cell_type": "code",
   "execution_count": 5,
   "metadata": {},
   "outputs": [
    {
     "name": "stdout",
     "output_type": "stream",
     "text": [
      "0\n",
      "1\n",
      "2\n",
      "3\n",
      "4\n",
      "5\n",
      "6\n",
      "7\n",
      "8\n",
      "9\n",
      "10\n"
     ]
    }
   ],
   "source": [
    "# Working with while Loop.\n",
    "i = 0 \n",
    "while i<=10:\n",
    "    print(i)\n",
    "    i+=1"
   ]
  },
  {
   "cell_type": "code",
   "execution_count": 17,
   "metadata": {},
   "outputs": [
    {
     "name": "stdout",
     "output_type": "stream",
     "text": [
      "['H', 'e', 'l', 'l', 'o', 'l', 'o', 'v', 'e', 'r']\n"
     ]
    }
   ],
   "source": [
    "# working with 'join'\n",
    "word = 'Hellolover'\n",
    "new_value = ','.join(word)\n",
    "new = new_value.split(',')\n",
    "print(new)"
   ]
  },
  {
   "cell_type": "code",
   "execution_count": null,
   "metadata": {},
   "outputs": [],
   "source": []
  },
  {
   "cell_type": "code",
   "execution_count": null,
   "metadata": {},
   "outputs": [],
   "source": []
  },
  {
   "cell_type": "code",
   "execution_count": null,
   "metadata": {},
   "outputs": [],
   "source": []
  }
 ],
 "metadata": {
  "kernelspec": {
   "display_name": "Python 3",
   "language": "python",
   "name": "python3"
  },
  "language_info": {
   "codemirror_mode": {
    "name": "ipython",
    "version": 3
   },
   "file_extension": ".py",
   "mimetype": "text/x-python",
   "name": "python",
   "nbconvert_exporter": "python",
   "pygments_lexer": "ipython3",
   "version": "3.6.5"
  }
 },
 "nbformat": 4,
 "nbformat_minor": 2
}
