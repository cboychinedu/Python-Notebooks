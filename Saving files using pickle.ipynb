{
 "cells": [
  {
   "cell_type": "code",
   "execution_count": 9,
   "metadata": {},
   "outputs": [],
   "source": [
    "#!/usr/bin/env python3 "
   ]
  },
  {
   "cell_type": "code",
   "execution_count": 17,
   "metadata": {},
   "outputs": [],
   "source": [
    "# Importing the necessary Packages. \n",
    "import pickle "
   ]
  },
  {
   "cell_type": "code",
   "execution_count": 23,
   "metadata": {},
   "outputs": [],
   "source": [
    "# Saving a file with pickle \n",
    "data = [1, 2, 3, 4, \"sarah\", \"mandy\"]\n",
    "\n",
    "# creating a file and Assigning it a variable called pickle_on\n",
    "pickle_on = open(\"file.pkl\", \"wb\")\n",
    "\n",
    "# Saving data into the opened file and then closing it.\n",
    "pickle.dump(data, pickle_on)\n",
    "pickle_on.close() "
   ]
  },
  {
   "cell_type": "code",
   "execution_count": 27,
   "metadata": {},
   "outputs": [
    {
     "name": "stdout",
     "output_type": "stream",
     "text": [
      "([[1, 2, 3, 4, 'sarah', 'mandy'], ['cucumber', 'pumpkin', 'carrot']], ['cucumber', 'pumpkin', 'carrot'])\n"
     ]
    }
   ],
   "source": [
    "# Loading the pickle file into memory. \n",
    "pickle_off = open(\"file.pkl\", \"rb\")\n",
    "data = pickle.load(pickle_off)\n",
    "print(data)"
   ]
  },
  {
   "cell_type": "code",
   "execution_count": 28,
   "metadata": {},
   "outputs": [],
   "source": [
    "# Saving a file with pickle \n",
    "test_list = ['cucumber', 'pumpkin', 'carrot']\n",
    "\n",
    "with open('file.pkl', 'wb') as pickle_on:\n",
    "    pickle.dump(test_list, pickle_on)"
   ]
  },
  {
   "cell_type": "code",
   "execution_count": 29,
   "metadata": {},
   "outputs": [
    {
     "name": "stdout",
     "output_type": "stream",
     "text": [
      "['cucumber', 'pumpkin', 'carrot']\n"
     ]
    }
   ],
   "source": [
    "# Loading the file into memory. \n",
    "with open('file.pkl', 'rb') as pickle_in:\n",
    "    new_val = pickle.load(pickle_in)\n",
    "    \n",
    "print(new_val)"
   ]
  },
  {
   "cell_type": "code",
   "execution_count": null,
   "metadata": {},
   "outputs": [],
   "source": []
  }
 ],
 "metadata": {
  "kernelspec": {
   "display_name": "Python 3",
   "language": "python",
   "name": "python3"
  },
  "language_info": {
   "codemirror_mode": {
    "name": "ipython",
    "version": 3
   },
   "file_extension": ".py",
   "mimetype": "text/x-python",
   "name": "python",
   "nbconvert_exporter": "python",
   "pygments_lexer": "ipython3",
   "version": "3.5.5"
  }
 },
 "nbformat": 4,
 "nbformat_minor": 2
}
